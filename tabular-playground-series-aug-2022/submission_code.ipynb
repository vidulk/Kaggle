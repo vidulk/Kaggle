{
 "cells": [
  {
   "cell_type": "code",
   "execution_count": 72,
   "metadata": {},
   "outputs": [],
   "source": [
    "import pandas as pd"
   ]
  },
  {
   "cell_type": "code",
   "execution_count": 73,
   "metadata": {},
   "outputs": [
    {
     "data": {
      "text/plain": [
       "(26570, 26)"
      ]
     },
     "execution_count": 73,
     "metadata": {},
     "output_type": "execute_result"
    }
   ],
   "source": [
    "train_data = pd.read_csv('train.csv')\n",
    "train_data.shape"
   ]
  },
  {
   "cell_type": "code",
   "execution_count": 74,
   "metadata": {},
   "outputs": [
    {
     "data": {
      "text/plain": [
       "loading            250\n",
       "measurement_3      381\n",
       "measurement_4      538\n",
       "measurement_5      676\n",
       "measurement_6      796\n",
       "measurement_7      937\n",
       "measurement_8     1048\n",
       "measurement_9     1227\n",
       "measurement_10    1300\n",
       "measurement_11    1468\n",
       "measurement_12    1601\n",
       "measurement_13    1774\n",
       "measurement_14    1874\n",
       "measurement_15    2009\n",
       "measurement_16    2110\n",
       "measurement_17    2284\n",
       "dtype: int64"
      ]
     },
     "execution_count": 74,
     "metadata": {},
     "output_type": "execute_result"
    }
   ],
   "source": [
    "#check for missing values\n",
    "all_nulls = train_data.isnull().sum()\n",
    "all_nulls[all_nulls > 0]"
   ]
  },
  {
   "cell_type": "code",
   "execution_count": 75,
   "metadata": {},
   "outputs": [
    {
     "data": {
      "text/plain": [
       "34.07586445025403"
      ]
     },
     "execution_count": 75,
     "metadata": {},
     "output_type": "execute_result"
    }
   ],
   "source": [
    "# Percentage of values missing\n",
    "len(train_data) * len(train_data.columns)/sum(all_nulls)"
   ]
  },
  {
   "cell_type": "code",
   "execution_count": 76,
   "metadata": {},
   "outputs": [
    {
     "data": {
      "text/html": [
       "<div>\n",
       "<style scoped>\n",
       "    .dataframe tbody tr th:only-of-type {\n",
       "        vertical-align: middle;\n",
       "    }\n",
       "\n",
       "    .dataframe tbody tr th {\n",
       "        vertical-align: top;\n",
       "    }\n",
       "\n",
       "    .dataframe thead th {\n",
       "        text-align: right;\n",
       "    }\n",
       "</style>\n",
       "<table border=\"1\" class=\"dataframe\">\n",
       "  <thead>\n",
       "    <tr style=\"text-align: right;\">\n",
       "      <th></th>\n",
       "      <th>id</th>\n",
       "      <th>product_code</th>\n",
       "      <th>loading</th>\n",
       "      <th>attribute_0</th>\n",
       "      <th>attribute_1</th>\n",
       "      <th>attribute_2</th>\n",
       "      <th>attribute_3</th>\n",
       "      <th>measurement_0</th>\n",
       "      <th>measurement_1</th>\n",
       "      <th>measurement_2</th>\n",
       "      <th>...</th>\n",
       "      <th>measurement_9</th>\n",
       "      <th>measurement_10</th>\n",
       "      <th>measurement_11</th>\n",
       "      <th>measurement_12</th>\n",
       "      <th>measurement_13</th>\n",
       "      <th>measurement_14</th>\n",
       "      <th>measurement_15</th>\n",
       "      <th>measurement_16</th>\n",
       "      <th>measurement_17</th>\n",
       "      <th>failure</th>\n",
       "    </tr>\n",
       "  </thead>\n",
       "  <tbody>\n",
       "    <tr>\n",
       "      <th>0</th>\n",
       "      <td>0</td>\n",
       "      <td>A</td>\n",
       "      <td>80.10</td>\n",
       "      <td>material_7</td>\n",
       "      <td>material_8</td>\n",
       "      <td>9</td>\n",
       "      <td>5</td>\n",
       "      <td>7</td>\n",
       "      <td>8</td>\n",
       "      <td>4</td>\n",
       "      <td>...</td>\n",
       "      <td>10.672</td>\n",
       "      <td>15.859</td>\n",
       "      <td>17.594</td>\n",
       "      <td>15.193</td>\n",
       "      <td>15.029</td>\n",
       "      <td>NaN</td>\n",
       "      <td>13.034</td>\n",
       "      <td>14.684</td>\n",
       "      <td>764.100</td>\n",
       "      <td>0</td>\n",
       "    </tr>\n",
       "    <tr>\n",
       "      <th>1</th>\n",
       "      <td>1</td>\n",
       "      <td>A</td>\n",
       "      <td>84.89</td>\n",
       "      <td>material_7</td>\n",
       "      <td>material_8</td>\n",
       "      <td>9</td>\n",
       "      <td>5</td>\n",
       "      <td>14</td>\n",
       "      <td>3</td>\n",
       "      <td>3</td>\n",
       "      <td>...</td>\n",
       "      <td>12.448</td>\n",
       "      <td>17.947</td>\n",
       "      <td>17.915</td>\n",
       "      <td>11.755</td>\n",
       "      <td>14.732</td>\n",
       "      <td>15.425</td>\n",
       "      <td>14.395</td>\n",
       "      <td>15.631</td>\n",
       "      <td>682.057</td>\n",
       "      <td>0</td>\n",
       "    </tr>\n",
       "    <tr>\n",
       "      <th>2</th>\n",
       "      <td>2</td>\n",
       "      <td>A</td>\n",
       "      <td>82.43</td>\n",
       "      <td>material_7</td>\n",
       "      <td>material_8</td>\n",
       "      <td>9</td>\n",
       "      <td>5</td>\n",
       "      <td>12</td>\n",
       "      <td>1</td>\n",
       "      <td>5</td>\n",
       "      <td>...</td>\n",
       "      <td>12.715</td>\n",
       "      <td>15.607</td>\n",
       "      <td>NaN</td>\n",
       "      <td>13.798</td>\n",
       "      <td>16.711</td>\n",
       "      <td>18.631</td>\n",
       "      <td>14.094</td>\n",
       "      <td>17.946</td>\n",
       "      <td>663.376</td>\n",
       "      <td>0</td>\n",
       "    </tr>\n",
       "    <tr>\n",
       "      <th>3</th>\n",
       "      <td>3</td>\n",
       "      <td>A</td>\n",
       "      <td>101.07</td>\n",
       "      <td>material_7</td>\n",
       "      <td>material_8</td>\n",
       "      <td>9</td>\n",
       "      <td>5</td>\n",
       "      <td>13</td>\n",
       "      <td>2</td>\n",
       "      <td>6</td>\n",
       "      <td>...</td>\n",
       "      <td>12.471</td>\n",
       "      <td>16.346</td>\n",
       "      <td>18.377</td>\n",
       "      <td>10.020</td>\n",
       "      <td>15.250</td>\n",
       "      <td>15.562</td>\n",
       "      <td>16.154</td>\n",
       "      <td>17.172</td>\n",
       "      <td>826.282</td>\n",
       "      <td>0</td>\n",
       "    </tr>\n",
       "    <tr>\n",
       "      <th>4</th>\n",
       "      <td>4</td>\n",
       "      <td>A</td>\n",
       "      <td>188.06</td>\n",
       "      <td>material_7</td>\n",
       "      <td>material_8</td>\n",
       "      <td>9</td>\n",
       "      <td>5</td>\n",
       "      <td>9</td>\n",
       "      <td>2</td>\n",
       "      <td>8</td>\n",
       "      <td>...</td>\n",
       "      <td>10.337</td>\n",
       "      <td>17.082</td>\n",
       "      <td>19.932</td>\n",
       "      <td>12.428</td>\n",
       "      <td>16.182</td>\n",
       "      <td>12.760</td>\n",
       "      <td>13.153</td>\n",
       "      <td>16.412</td>\n",
       "      <td>579.885</td>\n",
       "      <td>0</td>\n",
       "    </tr>\n",
       "  </tbody>\n",
       "</table>\n",
       "<p>5 rows × 26 columns</p>\n",
       "</div>"
      ],
      "text/plain": [
       "   id product_code  loading attribute_0 attribute_1  attribute_2  attribute_3  \\\n",
       "0   0            A    80.10  material_7  material_8            9            5   \n",
       "1   1            A    84.89  material_7  material_8            9            5   \n",
       "2   2            A    82.43  material_7  material_8            9            5   \n",
       "3   3            A   101.07  material_7  material_8            9            5   \n",
       "4   4            A   188.06  material_7  material_8            9            5   \n",
       "\n",
       "   measurement_0  measurement_1  measurement_2  ...  measurement_9  \\\n",
       "0              7              8              4  ...         10.672   \n",
       "1             14              3              3  ...         12.448   \n",
       "2             12              1              5  ...         12.715   \n",
       "3             13              2              6  ...         12.471   \n",
       "4              9              2              8  ...         10.337   \n",
       "\n",
       "   measurement_10  measurement_11  measurement_12  measurement_13  \\\n",
       "0          15.859          17.594          15.193          15.029   \n",
       "1          17.947          17.915          11.755          14.732   \n",
       "2          15.607             NaN          13.798          16.711   \n",
       "3          16.346          18.377          10.020          15.250   \n",
       "4          17.082          19.932          12.428          16.182   \n",
       "\n",
       "   measurement_14  measurement_15  measurement_16  measurement_17  failure  \n",
       "0             NaN          13.034          14.684         764.100        0  \n",
       "1          15.425          14.395          15.631         682.057        0  \n",
       "2          18.631          14.094          17.946         663.376        0  \n",
       "3          15.562          16.154          17.172         826.282        0  \n",
       "4          12.760          13.153          16.412         579.885        0  \n",
       "\n",
       "[5 rows x 26 columns]"
      ]
     },
     "execution_count": 76,
     "metadata": {},
     "output_type": "execute_result"
    }
   ],
   "source": [
    "train_data.head()"
   ]
  },
  {
   "cell_type": "code",
   "execution_count": 77,
   "metadata": {},
   "outputs": [
    {
     "name": "stderr",
     "output_type": "stream",
     "text": [
      "c:\\Users\\vidul\\AppData\\Local\\Programs\\Python\\Python37\\lib\\site-packages\\seaborn\\_decorators.py:43: FutureWarning: Pass the following variable as a keyword arg: x. From version 0.12, the only valid positional argument will be `data`, and passing other arguments without an explicit keyword will result in an error or misinterpretation.\n",
      "  FutureWarning\n"
     ]
    },
    {
     "data": {
      "text/plain": [
       "<AxesSubplot:xlabel='failure', ylabel='count'>"
      ]
     },
     "execution_count": 77,
     "metadata": {},
     "output_type": "execute_result"
    },
    {
     "data": {
      "image/png": "[encoded data removed]",
      "text/plain": [
       "<Figure size 432x288 with 1 Axes>"
      ]
     },
     "metadata": {
      "needs_background": "light"
     },
     "output_type": "display_data"
    }
   ],
   "source": [
    "import seaborn as sns\n",
    "\n",
    "sns.countplot(train_data['failure'])"
   ]
  },
  {
   "cell_type": "code",
   "execution_count": 78,
   "metadata": {},
   "outputs": [],
   "source": [
    "y = train_data['failure']\n",
    "train_data = train_data.drop(['failure'], axis=1)"
   ]
  },
  {
   "cell_type": "code",
   "execution_count": 79,
   "metadata": {},
   "outputs": [],
   "source": [
    "from sklearn.model_selection import train_test_split\n",
    "\n",
    "X_train, X_test, y_train, y_test = train_test_split(train_data, y, test_size=0.2, random_state=42, stratify=y)"
   ]
  },
  {
   "cell_type": "code",
   "execution_count": 80,
   "metadata": {},
   "outputs": [
    {
     "data": {
      "text/plain": [
       "Index(['product_code', 'attribute_0', 'attribute_1'], dtype='object')"
      ]
     },
     "execution_count": 80,
     "metadata": {},
     "output_type": "execute_result"
    }
   ],
   "source": [
    "#get string columns pandas\n",
    "col_strings = train_data.select_dtypes(exclude=[int,float]).columns\n",
    "col_strings"
   ]
  },
  {
   "cell_type": "code",
   "execution_count": 81,
   "metadata": {},
   "outputs": [
    {
     "data": {
      "text/plain": [
       "Index(['id', 'loading', 'attribute_2', 'attribute_3', 'measurement_0',\n",
       "       'measurement_1', 'measurement_2', 'measurement_3', 'measurement_4',\n",
       "       'measurement_5', 'measurement_6', 'measurement_7', 'measurement_8',\n",
       "       'measurement_9', 'measurement_10', 'measurement_11', 'measurement_12',\n",
       "       'measurement_13', 'measurement_14', 'measurement_15', 'measurement_16',\n",
       "       'measurement_17'],\n",
       "      dtype='object')"
      ]
     },
     "execution_count": 81,
     "metadata": {},
     "output_type": "execute_result"
    }
   ],
   "source": [
    "num_cols = train_data.select_dtypes(include=[float,int]).columns\n",
    "num_cols"
   ]
  },
  {
   "cell_type": "code",
   "execution_count": 82,
   "metadata": {},
   "outputs": [],
   "source": [
    "from sklearn.compose import ColumnTransformer\n",
    "from sklearn.pipeline import Pipeline\n",
    "from sklearn.impute import SimpleImputer\n",
    "from sklearn.preprocessing import OneHotEncoder, OrdinalEncoder, MinMaxScaler\n",
    "# Presprocessing\n",
    "\n",
    "categorical_transformer = Pipeline(steps=[\n",
    "    ('imputer', SimpleImputer(strategy='most_frequent')),\n",
    "    ('onehot', OneHotEncoder(handle_unknown='ignore'))\n",
    "])\n",
    "\n",
    "int_transformer = Pipeline(steps=[\n",
    "    ('imputer', SimpleImputer(strategy='median')),\n",
    "    ('scaler', MinMaxScaler())\n",
    "])\n",
    "\n",
    "float_transformer = Pipeline(steps=[\n",
    "    ('imputer', SimpleImputer(strategy='mean')),\n",
    "    ('scaler', MinMaxScaler())\n",
    "])\n",
    "\n",
    "preprocessor = ColumnTransformer(\n",
    "    [\n",
    "        ('cat', categorical_transformer, col_strings),\n",
    "        ('int', int_transformer, train_data.select_dtypes(include=[int]).columns),\n",
    "        ('float', float_transformer, num_cols)\n",
    "    ])"
   ]
  },
  {
   "cell_type": "code",
   "execution_count": 83,
   "metadata": {},
   "outputs": [],
   "source": [
    "X_train = preprocessor.fit_transform(X_train)\n",
    "X_test = preprocessor.transform(X_test)"
   ]
  },
  {
   "cell_type": "code",
   "execution_count": 49,
   "metadata": {},
   "outputs": [
    {
     "data": {
      "text/plain": [
       "array([[0.        , 0.        , 1.        , ..., 0.43107861, 0.39380106,\n",
       "        0.52998757],\n",
       "       [0.        , 0.        , 0.        , ..., 0.51489945, 0.57944898,\n",
       "        0.39586651],\n",
       "       [0.        , 0.        , 0.        , ..., 0.36471664, 0.34142239,\n",
       "        0.38453377],\n",
       "       ...,\n",
       "       [0.        , 0.        , 0.        , ..., 0.4226691 , 0.65489348,\n",
       "        0.42282249],\n",
       "       [0.        , 0.        , 0.        , ..., 0.44369287, 0.57864809,\n",
       "        0.38034895],\n",
       "       [0.        , 0.        , 0.        , ..., 0.35146252, 0.54364889,\n",
       "        0.52114026]])"
      ]
     },
     "execution_count": 49,
     "metadata": {},
     "output_type": "execute_result"
    }
   ],
   "source": [
    "X_test"
   ]
  },
  {
   "cell_type": "code",
   "execution_count": 50,
   "metadata": {},
   "outputs": [],
   "source": [
    "import tensorflow as tf\n",
    "import matplotlib.pyplot as plt"
   ]
  },
  {
   "cell_type": "code",
   "execution_count": 91,
   "metadata": {},
   "outputs": [
    {
     "name": "stdout",
     "output_type": "stream",
     "text": [
      "Model: \"sequential_4\"\n",
      "_________________________________________________________________\n",
      " Layer (type)                Output Shape              Param #   \n",
      "=================================================================\n",
      " dense_14 (Dense)            (None, 20)                780       \n",
      "                                                                 \n",
      " dense_15 (Dense)            (None, 15)                315       \n",
      "                                                                 \n",
      " dropout_4 (Dropout)         (None, 15)                0         \n",
      "                                                                 \n",
      " dense_16 (Dense)            (None, 10)                160       \n",
      "                                                                 \n",
      " dense_17 (Dense)            (None, 1)                 11        \n",
      "                                                                 \n",
      "=================================================================\n",
      "Total params: 1,266\n",
      "Trainable params: 1,266\n",
      "Non-trainable params: 0\n",
      "_________________________________________________________________\n"
     ]
    }
   ],
   "source": [
    "tf.random.set_seed(42)\n",
    "\n",
    "model = tf.keras.Sequential([\n",
    "    tf.keras.layers.Dense(20, activation='relu', input_shape=(X_train.shape[1],)),\n",
    "    tf.keras.layers.Dense(15, activation='relu'),\n",
    "    tf.keras.layers.Dropout(.2),\n",
    "    tf.keras.layers.Dense(10, activation='relu'),\n",
    "    tf.keras.layers.Dense(1, activation='sigmoid')\n",
    "])\n",
    "\n",
    "model.compile(loss = tf.keras.losses.BinaryFocalCrossentropy(), optimizer = tf.keras.optimizers.Adam(learning_rate=1e-3), metrics = [tf.keras.metrics.AUC()])\n",
    "\n",
    "model.summary()"
   ]
  },
  {
   "cell_type": "code",
   "execution_count": 52,
   "metadata": {},
   "outputs": [],
   "source": [
    "# plot learning curve\n",
    "# summarize history for accuracy\n",
    "def plot_history_loss(history):\n",
    "    plt.plot(history.history['loss'])\n",
    "    plt.plot(history.history['val_loss'])\n",
    "    plt.title('Model Loss')\n",
    "    plt.ylabel('loss')\n",
    "    plt.xlabel('epoch')\n",
    "    plt.legend(['train', 'val'], loc='upper left')\n",
    "    plt.show()\n",
    "    \n",
    "def plot_history_accuracy(history):\n",
    "    plt.plot(history.history['accuracy'])\n",
    "    plt.plot(history.history['val_accuracy'])\n",
    "    plt.title('Model Accuracy')\n",
    "    plt.ylabel('accuracy')\n",
    "    plt.xlabel('epoch')\n",
    "    plt.legend(['train', 'val'], loc='upper left')\n",
    "    plt.show()\n",
    "\n",
    "def plot_history_auc(history,num):\n",
    "    plt.plot(history.history['auc_' + num])\n",
    "    plt.plot(history.history['val_auc_' + num])\n",
    "    plt.title('Model AUC')\n",
    "    plt.ylabel('auc')\n",
    "    plt.xlabel('epoch')\n",
    "    plt.legend(['train', 'val'], loc='upper left')\n",
    "    plt.show()"
   ]
  },
  {
   "cell_type": "code",
   "execution_count": 60,
   "metadata": {},
   "outputs": [
    {
     "name": "stdout",
     "output_type": "stream",
     "text": [
      "Epoch 1/100\n",
      "665/665 [==============================] - 6s 8ms/step - loss: 0.1358 - auc_3: 0.5053 - val_loss: 0.1341 - val_auc_3: 0.5168\n",
      "Epoch 2/100\n",
      "665/665 [==============================] - 5s 8ms/step - loss: 0.1339 - auc_3: 0.5127 - val_loss: 0.1334 - val_auc_3: 0.5201\n",
      "Epoch 3/100\n",
      "665/665 [==============================] - 7s 10ms/step - loss: 0.1334 - auc_3: 0.5269 - val_loss: 0.1327 - val_auc_3: 0.5682\n",
      "Epoch 4/100\n",
      "665/665 [==============================] - 6s 8ms/step - loss: 0.1328 - auc_3: 0.5508 - val_loss: 0.1322 - val_auc_3: 0.5743\n",
      "Epoch 5/100\n",
      "665/665 [==============================] - 6s 9ms/step - loss: 0.1324 - auc_3: 0.5649 - val_loss: 0.1322 - val_auc_3: 0.5815\n",
      "Epoch 6/100\n",
      "665/665 [==============================] - 5s 8ms/step - loss: 0.1324 - auc_3: 0.5637 - val_loss: 0.1323 - val_auc_3: 0.5830\n",
      "Epoch 7/100\n",
      "665/665 [==============================] - 5s 8ms/step - loss: 0.1321 - auc_3: 0.5693 - val_loss: 0.1318 - val_auc_3: 0.5805\n",
      "Epoch 8/100\n",
      "665/665 [==============================] - 5s 8ms/step - loss: 0.1320 - auc_3: 0.5754 - val_loss: 0.1318 - val_auc_3: 0.5849\n",
      "Epoch 9/100\n",
      "665/665 [==============================] - 5s 8ms/step - loss: 0.1319 - auc_3: 0.5777 - val_loss: 0.1317 - val_auc_3: 0.5829\n",
      "Epoch 10/100\n",
      "665/665 [==============================] - 5s 8ms/step - loss: 0.1318 - auc_3: 0.5777 - val_loss: 0.1318 - val_auc_3: 0.5836\n",
      "Epoch 11/100\n",
      "665/665 [==============================] - 6s 9ms/step - loss: 0.1317 - auc_3: 0.5812 - val_loss: 0.1321 - val_auc_3: 0.5847\n",
      "Epoch 12/100\n",
      "665/665 [==============================] - 6s 9ms/step - loss: 0.1317 - auc_3: 0.5836 - val_loss: 0.1329 - val_auc_3: 0.5845\n",
      "Epoch 13/100\n",
      "665/665 [==============================] - 7s 11ms/step - loss: 0.1315 - auc_3: 0.5843 - val_loss: 0.1325 - val_auc_3: 0.5847\n",
      "Epoch 14/100\n",
      "665/665 [==============================] - 6s 9ms/step - loss: 0.1317 - auc_3: 0.5815 - val_loss: 0.1321 - val_auc_3: 0.5865\n",
      "Epoch 15/100\n",
      "665/665 [==============================] - 6s 9ms/step - loss: 0.1317 - auc_3: 0.5829 - val_loss: 0.1319 - val_auc_3: 0.5838\n",
      "Epoch 16/100\n",
      "665/665 [==============================] - 6s 8ms/step - loss: 0.1316 - auc_3: 0.5843 - val_loss: 0.1317 - val_auc_3: 0.5882\n",
      "Epoch 17/100\n",
      "665/665 [==============================] - 6s 8ms/step - loss: 0.1314 - auc_3: 0.5877 - val_loss: 0.1314 - val_auc_3: 0.5896\n",
      "Epoch 18/100\n",
      "665/665 [==============================] - 6s 9ms/step - loss: 0.1316 - auc_3: 0.5855 - val_loss: 0.1319 - val_auc_3: 0.5889\n",
      "Epoch 19/100\n",
      "665/665 [==============================] - 6s 8ms/step - loss: 0.1315 - auc_3: 0.5874 - val_loss: 0.1316 - val_auc_3: 0.5889\n",
      "Epoch 20/100\n",
      "665/665 [==============================] - 6s 9ms/step - loss: 0.1313 - auc_3: 0.5875 - val_loss: 0.1318 - val_auc_3: 0.5827\n",
      "Epoch 21/100\n",
      "665/665 [==============================] - 7s 10ms/step - loss: 0.1315 - auc_3: 0.5858 - val_loss: 0.1320 - val_auc_3: 0.5855\n",
      "Epoch 22/100\n",
      "665/665 [==============================] - 8s 11ms/step - loss: 0.1314 - auc_3: 0.5870 - val_loss: 0.1318 - val_auc_3: 0.5897\n",
      "Epoch 23/100\n",
      "665/665 [==============================] - 7s 11ms/step - loss: 0.1314 - auc_3: 0.5865 - val_loss: 0.1325 - val_auc_3: 0.5827\n",
      "Epoch 24/100\n",
      "665/665 [==============================] - 6s 9ms/step - loss: 0.1315 - auc_3: 0.5848 - val_loss: 0.1324 - val_auc_3: 0.5889\n",
      "Epoch 25/100\n",
      "665/665 [==============================] - 7s 11ms/step - loss: 0.1312 - auc_3: 0.5919 - val_loss: 0.1316 - val_auc_3: 0.5886\n",
      "Epoch 26/100\n",
      "665/665 [==============================] - 6s 9ms/step - loss: 0.1313 - auc_3: 0.5911 - val_loss: 0.1318 - val_auc_3: 0.5852\n",
      "Epoch 27/100\n",
      "665/665 [==============================] - 6s 9ms/step - loss: 0.1313 - auc_3: 0.5899 - val_loss: 0.1320 - val_auc_3: 0.5860\n",
      "Epoch 28/100\n",
      "665/665 [==============================] - 6s 8ms/step - loss: 0.1312 - auc_3: 0.5912 - val_loss: 0.1318 - val_auc_3: 0.5858\n",
      "Epoch 29/100\n",
      "665/665 [==============================] - 6s 8ms/step - loss: 0.1314 - auc_3: 0.5859 - val_loss: 0.1329 - val_auc_3: 0.5833\n",
      "Epoch 30/100\n",
      "665/665 [==============================] - 6s 9ms/step - loss: 0.1314 - auc_3: 0.5868 - val_loss: 0.1326 - val_auc_3: 0.5867\n",
      "Epoch 31/100\n",
      "665/665 [==============================] - 6s 9ms/step - loss: 0.1312 - auc_3: 0.5922 - val_loss: 0.1329 - val_auc_3: 0.5858\n",
      "Epoch 32/100\n",
      "665/665 [==============================] - 6s 9ms/step - loss: 0.1314 - auc_3: 0.5887 - val_loss: 0.1324 - val_auc_3: 0.5808\n",
      "Epoch 33/100\n",
      "665/665 [==============================] - 8s 12ms/step - loss: 0.1312 - auc_3: 0.5913 - val_loss: 0.1323 - val_auc_3: 0.5828\n",
      "Epoch 34/100\n",
      "665/665 [==============================] - 5s 8ms/step - loss: 0.1313 - auc_3: 0.5897 - val_loss: 0.1325 - val_auc_3: 0.5866\n",
      "Epoch 35/100\n",
      "665/665 [==============================] - 5s 8ms/step - loss: 0.1312 - auc_3: 0.5896 - val_loss: 0.1321 - val_auc_3: 0.5770\n",
      "Epoch 36/100\n",
      "665/665 [==============================] - 5s 8ms/step - loss: 0.1314 - auc_3: 0.5883 - val_loss: 0.1335 - val_auc_3: 0.5854\n",
      "Epoch 37/100\n",
      "665/665 [==============================] - 5s 8ms/step - loss: 0.1311 - auc_3: 0.5918 - val_loss: 0.1325 - val_auc_3: 0.5835\n",
      "Epoch 38/100\n",
      "665/665 [==============================] - 6s 9ms/step - loss: 0.1312 - auc_3: 0.5911 - val_loss: 0.1320 - val_auc_3: 0.5869\n",
      "Epoch 39/100\n",
      "665/665 [==============================] - 7s 10ms/step - loss: 0.1312 - auc_3: 0.5906 - val_loss: 0.1323 - val_auc_3: 0.5857\n",
      "Epoch 40/100\n",
      "665/665 [==============================] - 6s 9ms/step - loss: 0.1311 - auc_3: 0.5941 - val_loss: 0.1322 - val_auc_3: 0.5864\n",
      "Epoch 41/100\n",
      "665/665 [==============================] - 6s 9ms/step - loss: 0.1310 - auc_3: 0.5947 - val_loss: 0.1326 - val_auc_3: 0.5802\n",
      "Epoch 42/100\n",
      "665/665 [==============================] - 6s 9ms/step - loss: 0.1311 - auc_3: 0.5930 - val_loss: 0.1320 - val_auc_3: 0.5844\n"
     ]
    }
   ],
   "source": [
    "history_means = model.fit(X_train, y_train,epochs = 100, validation_data=(X_test,y_test), callbacks=[tf.keras.callbacks.EarlyStopping(patience=25,restore_best_weights=True)]) #"
   ]
  },
  {
   "cell_type": "code",
   "execution_count": 61,
   "metadata": {},
   "outputs": [
    {
     "data": {
      "image/png": "[encoded data removed]",
      "text/plain": [
       "<Figure size 432x288 with 1 Axes>"
      ]
     },
     "metadata": {
      "needs_background": "light"
     },
     "output_type": "display_data"
    }
   ],
   "source": [
    "plot_history_auc(history_means,'3')"
   ]
  },
  {
   "cell_type": "code",
   "execution_count": 55,
   "metadata": {},
   "outputs": [],
   "source": [
    "best_auc = 0.587196946144104"
   ]
  },
  {
   "cell_type": "code",
   "execution_count": 62,
   "metadata": {},
   "outputs": [
    {
     "name": "stdout",
     "output_type": "stream",
     "text": [
      "167/167 [==============================] - 1s 4ms/step - loss: 0.1314 - auc_3: 0.5896\n",
      "INFO:tensorflow:Assets written to: best_model\\assets\n"
     ]
    },
    {
     "data": {
      "text/plain": [
       "0.5895617008209229"
      ]
     },
     "execution_count": 62,
     "metadata": {},
     "output_type": "execute_result"
    }
   ],
   "source": [
    "best_metrics = model.evaluate(X_test, y_test)\n",
    "if best_metrics[1] > best_auc:\n",
    "    best_auc = best_metrics[1]\n",
    "    best_model = model.save('best_model')\n",
    "best_metrics[1]"
   ]
  },
  {
   "cell_type": "code",
   "execution_count": 93,
   "metadata": {},
   "outputs": [
    {
     "name": "stdout",
     "output_type": "stream",
     "text": [
      "Epoch 1/100\n",
      "831/831 [==============================] - 5s 7ms/step - loss: 0.1329 - auc_4: 0.5459\n",
      "Epoch 2/100\n",
      "831/831 [==============================] - 6s 7ms/step - loss: 0.1326 - auc_4: 0.5555\n",
      "Epoch 3/100\n",
      "831/831 [==============================] - 6s 7ms/step - loss: 0.1323 - auc_4: 0.5649\n",
      "Epoch 4/100\n",
      "831/831 [==============================] - 6s 7ms/step - loss: 0.1321 - auc_4: 0.5695\n",
      "Epoch 5/100\n",
      "831/831 [==============================] - 6s 7ms/step - loss: 0.1318 - auc_4: 0.5783\n",
      "Epoch 6/100\n",
      "831/831 [==============================] - 6s 7ms/step - loss: 0.1318 - auc_4: 0.5790\n",
      "Epoch 7/100\n",
      "831/831 [==============================] - 6s 7ms/step - loss: 0.1318 - auc_4: 0.5810\n",
      "Epoch 8/100\n",
      "831/831 [==============================] - 5s 6ms/step - loss: 0.1316 - auc_4: 0.5842\n",
      "Epoch 9/100\n",
      "831/831 [==============================] - 5s 6ms/step - loss: 0.1317 - auc_4: 0.5819\n",
      "Epoch 10/100\n",
      "831/831 [==============================] - 5s 6ms/step - loss: 0.1317 - auc_4: 0.5842\n",
      "Epoch 11/100\n",
      "831/831 [==============================] - 5s 6ms/step - loss: 0.1318 - auc_4: 0.5810\n",
      "Epoch 12/100\n",
      "831/831 [==============================] - 5s 6ms/step - loss: 0.1317 - auc_4: 0.5826\n",
      "Epoch 13/100\n",
      "831/831 [==============================] - 5s 7ms/step - loss: 0.1316 - auc_4: 0.5849\n",
      "Epoch 14/100\n",
      "831/831 [==============================] - 6s 7ms/step - loss: 0.1315 - auc_4: 0.5860\n",
      "Epoch 15/100\n",
      "831/831 [==============================] - 6s 7ms/step - loss: 0.1315 - auc_4: 0.5860\n",
      "Epoch 16/100\n",
      "831/831 [==============================] - 5s 6ms/step - loss: 0.1315 - auc_4: 0.5869\n",
      "Epoch 17/100\n",
      "831/831 [==============================] - 5s 6ms/step - loss: 0.1315 - auc_4: 0.5866\n",
      "Epoch 18/100\n",
      "831/831 [==============================] - 5s 6ms/step - loss: 0.1314 - auc_4: 0.5872\n",
      "Epoch 19/100\n",
      "831/831 [==============================] - 5s 6ms/step - loss: 0.1315 - auc_4: 0.5857\n",
      "Epoch 20/100\n",
      "831/831 [==============================] - 5s 6ms/step - loss: 0.1314 - auc_4: 0.5878\n",
      "Epoch 21/100\n",
      "831/831 [==============================] - 5s 6ms/step - loss: 0.1314 - auc_4: 0.5876\n",
      "Epoch 22/100\n",
      "831/831 [==============================] - 5s 6ms/step - loss: 0.1313 - auc_4: 0.5885\n",
      "Epoch 23/100\n",
      "831/831 [==============================] - 5s 6ms/step - loss: 0.1314 - auc_4: 0.5881\n",
      "Epoch 24/100\n",
      "831/831 [==============================] - 5s 6ms/step - loss: 0.1315 - auc_4: 0.5877\n",
      "Epoch 25/100\n",
      "831/831 [==============================] - 5s 6ms/step - loss: 0.1315 - auc_4: 0.5872\n",
      "Epoch 26/100\n",
      "831/831 [==============================] - 5s 6ms/step - loss: 0.1314 - auc_4: 0.5897\n",
      "Epoch 27/100\n",
      "831/831 [==============================] - 5s 6ms/step - loss: 0.1314 - auc_4: 0.5876\n",
      "Epoch 28/100\n",
      "831/831 [==============================] - 5s 6ms/step - loss: 0.1313 - auc_4: 0.5904\n",
      "Epoch 29/100\n",
      "831/831 [==============================] - 5s 6ms/step - loss: 0.1314 - auc_4: 0.5882\n",
      "Epoch 30/100\n",
      "831/831 [==============================] - 5s 6ms/step - loss: 0.1313 - auc_4: 0.5914\n",
      "Epoch 31/100\n",
      "831/831 [==============================] - 5s 6ms/step - loss: 0.1313 - auc_4: 0.5906\n"
     ]
    }
   ],
   "source": [
    "#train on all data\n",
    "best_model = tf.keras.models.load_model('best_model')\n",
    "all_data = preprocessor.transform(train_data)\n",
    "\n",
    "final_model = model.fit(all_data, y,epochs = 100, callbacks=[tf.keras.callbacks.EarlyStopping(patience=30,restore_best_weights=True,monitor = 'auc_4')]) #"
   ]
  },
  {
   "cell_type": "code",
   "execution_count": 94,
   "metadata": {},
   "outputs": [
    {
     "ename": "KeyError",
     "evalue": "'val_auc_4'",
     "output_type": "error",
     "traceback": [
      "\u001b[1;31m---------------------------------------------------------------------------\u001b[0m",
      "\u001b[1;31mKeyError\u001b[0m                                  Traceback (most recent call last)",
      "\u001b[1;32m~\\AppData\\Local\\Temp\\ipykernel_16460\\3027593015.py\u001b[0m in \u001b[0;36m<module>\u001b[1;34m\u001b[0m\n\u001b[1;32m----> 1\u001b[1;33m \u001b[0mplot_history_auc\u001b[0m\u001b[1;33m(\u001b[0m\u001b[0mfinal_model\u001b[0m\u001b[1;33m,\u001b[0m\u001b[1;34m'4'\u001b[0m\u001b[1;33m)\u001b[0m\u001b[1;33m\u001b[0m\u001b[1;33m\u001b[0m\u001b[0m\n\u001b[0m",
      "\u001b[1;32m~\\AppData\\Local\\Temp\\ipykernel_16460\\3345759671.py\u001b[0m in \u001b[0;36mplot_history_auc\u001b[1;34m(history, num)\u001b[0m\n\u001b[0;32m     21\u001b[0m \u001b[1;32mdef\u001b[0m \u001b[0mplot_history_auc\u001b[0m\u001b[1;33m(\u001b[0m\u001b[0mhistory\u001b[0m\u001b[1;33m,\u001b[0m\u001b[0mnum\u001b[0m\u001b[1;33m)\u001b[0m\u001b[1;33m:\u001b[0m\u001b[1;33m\u001b[0m\u001b[1;33m\u001b[0m\u001b[0m\n\u001b[0;32m     22\u001b[0m     \u001b[0mplt\u001b[0m\u001b[1;33m.\u001b[0m\u001b[0mplot\u001b[0m\u001b[1;33m(\u001b[0m\u001b[0mhistory\u001b[0m\u001b[1;33m.\u001b[0m\u001b[0mhistory\u001b[0m\u001b[1;33m[\u001b[0m\u001b[1;34m'auc_'\u001b[0m \u001b[1;33m+\u001b[0m \u001b[0mnum\u001b[0m\u001b[1;33m]\u001b[0m\u001b[1;33m)\u001b[0m\u001b[1;33m\u001b[0m\u001b[1;33m\u001b[0m\u001b[0m\n\u001b[1;32m---> 23\u001b[1;33m     \u001b[0mplt\u001b[0m\u001b[1;33m.\u001b[0m\u001b[0mplot\u001b[0m\u001b[1;33m(\u001b[0m\u001b[0mhistory\u001b[0m\u001b[1;33m.\u001b[0m\u001b[0mhistory\u001b[0m\u001b[1;33m[\u001b[0m\u001b[1;34m'val_auc_'\u001b[0m \u001b[1;33m+\u001b[0m \u001b[0mnum\u001b[0m\u001b[1;33m]\u001b[0m\u001b[1;33m)\u001b[0m\u001b[1;33m\u001b[0m\u001b[1;33m\u001b[0m\u001b[0m\n\u001b[0m\u001b[0;32m     24\u001b[0m     \u001b[0mplt\u001b[0m\u001b[1;33m.\u001b[0m\u001b[0mtitle\u001b[0m\u001b[1;33m(\u001b[0m\u001b[1;34m'Model AUC'\u001b[0m\u001b[1;33m)\u001b[0m\u001b[1;33m\u001b[0m\u001b[1;33m\u001b[0m\u001b[0m\n\u001b[0;32m     25\u001b[0m     \u001b[0mplt\u001b[0m\u001b[1;33m.\u001b[0m\u001b[0mylabel\u001b[0m\u001b[1;33m(\u001b[0m\u001b[1;34m'auc'\u001b[0m\u001b[1;33m)\u001b[0m\u001b[1;33m\u001b[0m\u001b[1;33m\u001b[0m\u001b[0m\n",
      "\u001b[1;31mKeyError\u001b[0m: 'val_auc_4'"
     ]
    },
    {
     "data": {
      "image/png": "[encoded data removed]",
      "text/plain": [
       "<Figure size 432x288 with 1 Axes>"
      ]
     },
     "metadata": {
      "needs_background": "light"
     },
     "output_type": "display_data"
    }
   ],
   "source": [
    "plot_history_auc(final_model,'4')"
   ]
  },
  {
   "cell_type": "code",
   "execution_count": 98,
   "metadata": {},
   "outputs": [
    {
     "data": {
      "text/html": [
       "<div>\n",
       "<style scoped>\n",
       "    .dataframe tbody tr th:only-of-type {\n",
       "        vertical-align: middle;\n",
       "    }\n",
       "\n",
       "    .dataframe tbody tr th {\n",
       "        vertical-align: top;\n",
       "    }\n",
       "\n",
       "    .dataframe thead th {\n",
       "        text-align: right;\n",
       "    }\n",
       "</style>\n",
       "<table border=\"1\" class=\"dataframe\">\n",
       "  <thead>\n",
       "    <tr style=\"text-align: right;\">\n",
       "      <th></th>\n",
       "      <th>id</th>\n",
       "      <th>product_code</th>\n",
       "      <th>loading</th>\n",
       "      <th>attribute_0</th>\n",
       "      <th>attribute_1</th>\n",
       "      <th>attribute_2</th>\n",
       "      <th>attribute_3</th>\n",
       "      <th>measurement_0</th>\n",
       "      <th>measurement_1</th>\n",
       "      <th>measurement_2</th>\n",
       "      <th>...</th>\n",
       "      <th>measurement_8</th>\n",
       "      <th>measurement_9</th>\n",
       "      <th>measurement_10</th>\n",
       "      <th>measurement_11</th>\n",
       "      <th>measurement_12</th>\n",
       "      <th>measurement_13</th>\n",
       "      <th>measurement_14</th>\n",
       "      <th>measurement_15</th>\n",
       "      <th>measurement_16</th>\n",
       "      <th>measurement_17</th>\n",
       "    </tr>\n",
       "  </thead>\n",
       "  <tbody>\n",
       "    <tr>\n",
       "      <th>0</th>\n",
       "      <td>26570</td>\n",
       "      <td>F</td>\n",
       "      <td>119.57</td>\n",
       "      <td>material_5</td>\n",
       "      <td>material_6</td>\n",
       "      <td>6</td>\n",
       "      <td>4</td>\n",
       "      <td>6</td>\n",
       "      <td>9</td>\n",
       "      <td>6</td>\n",
       "      <td>...</td>\n",
       "      <td>18.654</td>\n",
       "      <td>10.802</td>\n",
       "      <td>15.909</td>\n",
       "      <td>18.070</td>\n",
       "      <td>13.772</td>\n",
       "      <td>13.659</td>\n",
       "      <td>16.825</td>\n",
       "      <td>13.742</td>\n",
       "      <td>17.710</td>\n",
       "      <td>634.612</td>\n",
       "    </tr>\n",
       "    <tr>\n",
       "      <th>1</th>\n",
       "      <td>26571</td>\n",
       "      <td>F</td>\n",
       "      <td>113.51</td>\n",
       "      <td>material_5</td>\n",
       "      <td>material_6</td>\n",
       "      <td>6</td>\n",
       "      <td>4</td>\n",
       "      <td>11</td>\n",
       "      <td>8</td>\n",
       "      <td>0</td>\n",
       "      <td>...</td>\n",
       "      <td>19.368</td>\n",
       "      <td>12.032</td>\n",
       "      <td>13.998</td>\n",
       "      <td>NaN</td>\n",
       "      <td>12.473</td>\n",
       "      <td>17.468</td>\n",
       "      <td>16.708</td>\n",
       "      <td>14.776</td>\n",
       "      <td>14.102</td>\n",
       "      <td>537.037</td>\n",
       "    </tr>\n",
       "    <tr>\n",
       "      <th>2</th>\n",
       "      <td>26572</td>\n",
       "      <td>F</td>\n",
       "      <td>112.16</td>\n",
       "      <td>material_5</td>\n",
       "      <td>material_6</td>\n",
       "      <td>6</td>\n",
       "      <td>4</td>\n",
       "      <td>8</td>\n",
       "      <td>12</td>\n",
       "      <td>4</td>\n",
       "      <td>...</td>\n",
       "      <td>17.774</td>\n",
       "      <td>11.743</td>\n",
       "      <td>17.046</td>\n",
       "      <td>18.086</td>\n",
       "      <td>10.907</td>\n",
       "      <td>13.363</td>\n",
       "      <td>15.737</td>\n",
       "      <td>17.065</td>\n",
       "      <td>16.021</td>\n",
       "      <td>658.995</td>\n",
       "    </tr>\n",
       "    <tr>\n",
       "      <th>3</th>\n",
       "      <td>26573</td>\n",
       "      <td>F</td>\n",
       "      <td>112.72</td>\n",
       "      <td>material_5</td>\n",
       "      <td>material_6</td>\n",
       "      <td>6</td>\n",
       "      <td>4</td>\n",
       "      <td>8</td>\n",
       "      <td>11</td>\n",
       "      <td>10</td>\n",
       "      <td>...</td>\n",
       "      <td>18.948</td>\n",
       "      <td>11.790</td>\n",
       "      <td>18.165</td>\n",
       "      <td>16.163</td>\n",
       "      <td>10.933</td>\n",
       "      <td>15.501</td>\n",
       "      <td>15.667</td>\n",
       "      <td>12.620</td>\n",
       "      <td>16.111</td>\n",
       "      <td>594.301</td>\n",
       "    </tr>\n",
       "    <tr>\n",
       "      <th>4</th>\n",
       "      <td>26574</td>\n",
       "      <td>F</td>\n",
       "      <td>208.00</td>\n",
       "      <td>material_5</td>\n",
       "      <td>material_6</td>\n",
       "      <td>6</td>\n",
       "      <td>4</td>\n",
       "      <td>14</td>\n",
       "      <td>16</td>\n",
       "      <td>8</td>\n",
       "      <td>...</td>\n",
       "      <td>19.141</td>\n",
       "      <td>12.370</td>\n",
       "      <td>14.578</td>\n",
       "      <td>17.849</td>\n",
       "      <td>11.941</td>\n",
       "      <td>16.070</td>\n",
       "      <td>16.183</td>\n",
       "      <td>13.324</td>\n",
       "      <td>17.150</td>\n",
       "      <td>801.044</td>\n",
       "    </tr>\n",
       "  </tbody>\n",
       "</table>\n",
       "<p>5 rows × 25 columns</p>\n",
       "</div>"
      ],
      "text/plain": [
       "      id product_code  loading attribute_0 attribute_1  attribute_2  \\\n",
       "0  26570            F   119.57  material_5  material_6            6   \n",
       "1  26571            F   113.51  material_5  material_6            6   \n",
       "2  26572            F   112.16  material_5  material_6            6   \n",
       "3  26573            F   112.72  material_5  material_6            6   \n",
       "4  26574            F   208.00  material_5  material_6            6   \n",
       "\n",
       "   attribute_3  measurement_0  measurement_1  measurement_2  ...  \\\n",
       "0            4              6              9              6  ...   \n",
       "1            4             11              8              0  ...   \n",
       "2            4              8             12              4  ...   \n",
       "3            4              8             11             10  ...   \n",
       "4            4             14             16              8  ...   \n",
       "\n",
       "   measurement_8  measurement_9  measurement_10  measurement_11  \\\n",
       "0         18.654         10.802          15.909          18.070   \n",
       "1         19.368         12.032          13.998             NaN   \n",
       "2         17.774         11.743          17.046          18.086   \n",
       "3         18.948         11.790          18.165          16.163   \n",
       "4         19.141         12.370          14.578          17.849   \n",
       "\n",
       "   measurement_12  measurement_13  measurement_14  measurement_15  \\\n",
       "0          13.772          13.659          16.825          13.742   \n",
       "1          12.473          17.468          16.708          14.776   \n",
       "2          10.907          13.363          15.737          17.065   \n",
       "3          10.933          15.501          15.667          12.620   \n",
       "4          11.941          16.070          16.183          13.324   \n",
       "\n",
       "   measurement_16  measurement_17  \n",
       "0          17.710         634.612  \n",
       "1          14.102         537.037  \n",
       "2          16.021         658.995  \n",
       "3          16.111         594.301  \n",
       "4          17.150         801.044  \n",
       "\n",
       "[5 rows x 25 columns]"
      ]
     },
     "execution_count": 98,
     "metadata": {},
     "output_type": "execute_result"
    }
   ],
   "source": [
    "test_data = pd.read_csv('test.csv')\n",
    "test_data.head()"
   ]
  },
  {
   "cell_type": "code",
   "execution_count": 99,
   "metadata": {},
   "outputs": [
    {
     "data": {
      "text/plain": [
       "(20775, 25)"
      ]
     },
     "execution_count": 99,
     "metadata": {},
     "output_type": "execute_result"
    }
   ],
   "source": [
    "test_data.shape"
   ]
  },
  {
   "cell_type": "code",
   "execution_count": 101,
   "metadata": {},
   "outputs": [
    {
     "name": "stdout",
     "output_type": "stream",
     "text": [
      "650/650 [==============================] - 1s 2ms/step\n"
     ]
    }
   ],
   "source": [
    "x_real_test = preprocessor.transform(test_data)\n",
    "test_data_predict_prob = model.predict(x_real_test)\n",
    "\n",
    "test_data_predict_prob = test_data_predict_prob.flatten()"
   ]
  },
  {
   "cell_type": "code",
   "execution_count": 102,
   "metadata": {},
   "outputs": [],
   "source": [
    "output = pd.DataFrame({'id': test_data['id'],\n",
    "                       'failure': test_data_predict_prob})\n",
    "output.to_csv('submission.csv', index=False)"
   ]
  },
  {
   "cell_type": "code",
   "execution_count": 103,
   "metadata": {},
   "outputs": [
    {
     "data": {
      "text/html": [
       "<div>\n",
       "<style scoped>\n",
       "    .dataframe tbody tr th:only-of-type {\n",
       "        vertical-align: middle;\n",
       "    }\n",
       "\n",
       "    .dataframe tbody tr th {\n",
       "        vertical-align: top;\n",
       "    }\n",
       "\n",
       "    .dataframe thead th {\n",
       "        text-align: right;\n",
       "    }\n",
       "</style>\n",
       "<table border=\"1\" class=\"dataframe\">\n",
       "  <thead>\n",
       "    <tr style=\"text-align: right;\">\n",
       "      <th></th>\n",
       "      <th>id</th>\n",
       "      <th>failure</th>\n",
       "    </tr>\n",
       "  </thead>\n",
       "  <tbody>\n",
       "    <tr>\n",
       "      <th>0</th>\n",
       "      <td>26570</td>\n",
       "      <td>0.404935</td>\n",
       "    </tr>\n",
       "    <tr>\n",
       "      <th>1</th>\n",
       "      <td>26571</td>\n",
       "      <td>0.395574</td>\n",
       "    </tr>\n",
       "    <tr>\n",
       "      <th>2</th>\n",
       "      <td>26572</td>\n",
       "      <td>0.403809</td>\n",
       "    </tr>\n",
       "    <tr>\n",
       "      <th>3</th>\n",
       "      <td>26573</td>\n",
       "      <td>0.401213</td>\n",
       "    </tr>\n",
       "    <tr>\n",
       "      <th>4</th>\n",
       "      <td>26574</td>\n",
       "      <td>0.408812</td>\n",
       "    </tr>\n",
       "  </tbody>\n",
       "</table>\n",
       "</div>"
      ],
      "text/plain": [
       "      id   failure\n",
       "0  26570  0.404935\n",
       "1  26571  0.395574\n",
       "2  26572  0.403809\n",
       "3  26573  0.401213\n",
       "4  26574  0.408812"
      ]
     },
     "execution_count": 103,
     "metadata": {},
     "output_type": "execute_result"
    }
   ],
   "source": [
    "output.head()"
   ]
  }
 ],
 "metadata": {
  "kernelspec": {
   "display_name": "Python 3.7.9 64-bit",
   "language": "python",
   "name": "python3"
  },
  "language_info": {
   "codemirror_mode": {
    "name": "ipython",
    "version": 3
   },
   "file_extension": ".py",
   "mimetype": "text/x-python",
   "name": "python",
   "nbconvert_exporter": "python",
   "pygments_lexer": "ipython3",
   "version": "3.7.9"
  },
  "orig_nbformat": 4,
  "vscode": {
   "interpreter": {
    "hash": "fb2d2ab0e38901882108eb4a3718ada65b32a43f95a1eda92127ecc00b53ec35"
   }
  }
 },
 "nbformat": 4,
 "nbformat_minor": 2
}
